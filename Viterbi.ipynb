{
 "cells": [
  {
   "cell_type": "code",
   "execution_count": 2,
   "metadata": {},
   "outputs": [],
   "source": [
    "import numpy\n",
    "\n",
    "def Viterbi_Algorithm(A, states, emissions, prior_probabilities, B, sequence):\n",
    "    probabilities = []\n",
    "    \n",
    "    #convert given sequence of strings to indices\n",
    "    emissions_dict = dict(zip(emissions, list(range(len(emissions)))))    \n",
    "    emissions_sequence = []\n",
    "    for item in sequence:\n",
    "        emissions_sequence.append(emissions_dict[item])\n",
    "\n",
    "    #first maximal probability\n",
    "    probabilities.append(\n",
    "        tuple(\n",
    "            prior_probabilities[state]*B[state, emissions_sequence[0]]\n",
    "            for state in range(len(states)))\n",
    "    )\n",
    "\n",
    "    for i in range(1, len(emissions_sequence)):\n",
    "        previous_probabilities = probabilities[-1]\n",
    "        current_probabilities = []\n",
    "        for col in range(len(A[0,:])):\n",
    "            p = max(\n",
    "                previous_probabilities[state]*A[state,col]*B[col,emissions_sequence[i]]\n",
    "                for state in range(len(states))\n",
    "            )\n",
    "            current_probabilities.append(p)\n",
    "        probabilities.append(tuple(current_probabilities))\n",
    "\n",
    "    #find the sequence of hidden states\n",
    "    hidden_states_sequence = []\n",
    "    for i in probabilities:\n",
    "        hidden_state = states[numpy.argmax(i)]\n",
    "        hidden_states_sequence.append(hidden_state)\n",
    "    \n",
    "    print(sequence)\n",
    "    print(hidden_states_sequence)\n",
    "    return probabilities, hidden_states_sequence"
   ]
  },
  {
   "cell_type": "code",
   "execution_count": 3,
   "metadata": {},
   "outputs": [
    {
     "name": "stdout",
     "output_type": "stream",
     "text": [
      "['GoT', 'BB', 'EEnD']\n",
      "['Happy', 'Sad', 'Sad']\n"
     ]
    }
   ],
   "source": [
    "if __name__ == \"__main__\":\n",
    "    %run example_sets.ipynb\n",
    "    \n",
    "    transition_probability_matrix,\\\n",
    "    hidden_states,\\\n",
    "    observations,\\\n",
    "    prior_probabilities,\\\n",
    "    emission_probabilities_matrix,\\\n",
    "    emissions_sequence = example_sets.happy_sad_robot()\n",
    "    \n",
    "    P = Viterbi_Algorithm(\n",
    "        transition_probability_matrix, \n",
    "        hidden_states,\n",
    "        observations,\n",
    "        prior_probabilities, \n",
    "        emission_probabilities_matrix,\n",
    "        emissions_sequence)"
   ]
  },
  {
   "cell_type": "code",
   "execution_count": null,
   "metadata": {},
   "outputs": [],
   "source": []
  }
 ],
 "metadata": {
  "kernelspec": {
   "display_name": "Python 3",
   "language": "python",
   "name": "python3"
  },
  "language_info": {
   "codemirror_mode": {
    "name": "ipython",
    "version": 3
   },
   "file_extension": ".py",
   "mimetype": "text/x-python",
   "name": "python",
   "nbconvert_exporter": "python",
   "pygments_lexer": "ipython3",
   "version": "3.7.7"
  }
 },
 "nbformat": 4,
 "nbformat_minor": 4
}
