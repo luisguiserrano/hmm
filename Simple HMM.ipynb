{
 "cells": [
  {
   "cell_type": "markdown",
   "metadata": {},
   "source": [
    "# The Viterbi Algorithm for Hidden Markov Models\n",
    "This is a simple implementation of the Viterbi Algorithm for training HMMs.\n",
    "\n",
    "This notebook is a supplement for this video.\n",
    "https://www.youtube.com/watch?v=kqSzLo9fenk\n",
    "\n",
    "In here, we use this notation:\n",
    "- `s` stands for Sunny\n",
    "- `r` stands for Rainy\n",
    "- `h` stands for Happy\n",
    "- `g` stands for Grumpy\n",
    "\n",
    "And the goal is, given a sequence of moods, we find the most likely sequence of types of weathers that caused that sequence of moods."
   ]
  },
  {
   "cell_type": "code",
   "execution_count": 65,
   "metadata": {
    "collapsed": true,
    "deletable": true,
    "editable": true
   },
   "outputs": [],
   "source": [
    "from numpy import random"
   ]
  },
  {
   "cell_type": "code",
   "execution_count": 66,
   "metadata": {
    "collapsed": false,
    "deletable": true,
    "editable": true
   },
   "outputs": [
    {
     "data": {
      "text/plain": [
       "['S', 'S', 'S', 'R', 'R', 'S']"
      ]
     },
     "execution_count": 66,
     "metadata": {},
     "output_type": "execute_result"
    }
   ],
   "source": [
    "# Transition Probabilities\n",
    "p_ss = 0.8\n",
    "p_sr = 0.2\n",
    "p_rs = 0.4\n",
    "p_rr = 0.6\n",
    "\n",
    "# Initial Probabilities\n",
    "p_s = 2/3\n",
    "p_r = 1/3\n",
    "\n",
    "# Emission Probabilities\n",
    "p_sh = 0.8\n",
    "p_sg = 0.2\n",
    "p_rh = 0.4\n",
    "p_rg = 0.6\n",
    "\n",
    "moods = ['H', 'H', 'G', 'G', 'G', 'H']\n",
    "probabilities = []\n",
    "weather = []\n",
    "\n",
    "if moods[0] == 'H':\n",
    "    probabilities.append((p_s*p_sh, p_r*p_rh))\n",
    "else:\n",
    "    probabilities.append((p_s*p_sg, p_r*p_rg))\n",
    "\n",
    "for i in range(1,len(moods)):\n",
    "    yesterday_sunny, yesterday_rainy = probabilities[-1]\n",
    "\n",
    "    yesterday_sunny_to_today_sunny = yesterday_sunny*p_ss\n",
    "    yesterday_rainy_to_today_sunny = yesterday_rainy*p_rs\n",
    "    if yesterday_sunny_to_today_sunny > yesterday_rainy_to_today_sunny:\n",
    "        today_sunny = yesterday_sunny_to_today_sunny\n",
    "    else:\n",
    "        today_sunny = yesterday_rainy_to_today_sunny\n",
    "\n",
    "    yesterday_sunny_to_today_rainy = yesterday_sunny*p_sr\n",
    "    yesterday_rainy_to_today_rainy = yesterday_rainy*p_rr\n",
    "    if yesterday_sunny_to_today_rainy > yesterday_rainy_to_today_rainy:\n",
    "        today_rainy = yesterday_sunny_to_today_rainy\n",
    "    else:\n",
    "        today_rainy = yesterday_rainy_to_today_rainy\n",
    "\n",
    "    if moods[i] == 'H':\n",
    "        today_sunny *= p_sh\n",
    "        today_rainy *= p_rh\n",
    "    else:\n",
    "        today_sunny *= p_sg\n",
    "        today_rainy *= p_rg\n",
    "    probabilities.append((today_sunny, today_rainy))\n",
    "\n",
    "for p in probabilities:\n",
    "    if p[0] > p[1]:\n",
    "        weather.append('S')\n",
    "    else:\n",
    "        weather.append('R')\n",
    "        \n",
    "weather"
   ]
  },
  {
   "cell_type": "code",
   "execution_count": 67,
   "metadata": {
    "collapsed": false,
    "deletable": true,
    "editable": true
   },
   "outputs": [
    {
     "data": {
      "text/plain": [
       "[(0.5333333333333333, 0.13333333333333333),\n",
       " (0.3413333333333334, 0.04266666666666667),\n",
       " (0.05461333333333335, 0.04096000000000001),\n",
       " (0.008738133333333337, 0.014745600000000001),\n",
       " (0.0013981013333333341, 0.005308416),\n",
       " (0.00169869312, 0.00127401984)]"
      ]
     },
     "execution_count": 67,
     "metadata": {},
     "output_type": "execute_result"
    }
   ],
   "source": [
    "probabilities"
   ]
  },
  {
   "cell_type": "code",
   "execution_count": null,
   "metadata": {
    "collapsed": true,
    "deletable": true,
    "editable": true
   },
   "outputs": [],
   "source": []
  }
 ],
 "metadata": {
  "kernelspec": {
   "display_name": "Python 3",
   "language": "python",
   "name": "python3"
  },
  "language_info": {
   "codemirror_mode": {
    "name": "ipython",
    "version": 3
   },
   "file_extension": ".py",
   "mimetype": "text/x-python",
   "name": "python",
   "nbconvert_exporter": "python",
   "pygments_lexer": "ipython3",
   "version": "3.5.2"
  }
 },
 "nbformat": 4,
 "nbformat_minor": 2
}
